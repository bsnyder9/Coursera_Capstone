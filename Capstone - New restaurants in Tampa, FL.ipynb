{
    "nbformat_minor": 1, 
    "cells": [
        {
            "source": "## For this week, you will required to submit the following:\n\n**A description of the problem and a discussion of the background. (15 marks)**\nTampa, FL has a reputation of being a city where most citizens live in the surrounding suburbs and commute into the city for work. Because of this, the population isn't as dense as other cities, which can make it difficult for restaurant businesses to pick locations for new venues. I'd like to explore whether the existing venues (in a certain suburb?) can be modeled  based on their local area demographics to determine the best areas for a new venue to achieve a high number of \"likes\" on Foursquare.\n\n**A description of the data and how it will be used to solve the problem. (15 marks)**\n\n##### Data\n\n+ Foursquare:\n    + Venue locations (lat/long)\n    + Venue category?\n    + Venue \"likes\" from Foursquare are only available in Venue Details, at 1 result per call. In order to avoid burning through alloted calls by repeatedly requesting the same data, I'll probably keep a finalized JSON file after figuring out the data I want, and load it into Python from storage. \n\n+ Census.gov\n    + Demographic breakdown: CSV files of \"SEX BY AGE\" (B01001 and B01001A-I, ACS2017) per Census Tract for all of Florida (the Tampa Bay area includes a few counties so I'm not narrowing this data down too much yet) \n        + All races/ethnicities https://factfinder.census.gov/bkmk/table/1.0/en/ACS/17_5YR/B01001/0400000US12.14000\n        + White alone https://factfinder.census.gov/bkmk/table/1.0/en/ACS/17_5YR/B01001A/0400000US12.14000\n        + Black alone https://factfinder.census.gov/bkmk/table/1.0/en/ACS/17_5YR/B01001B/0400000US12.14000\n        + Am. Indian alone https://factfinder.census.gov/bkmk/table/1.0/en/ACS/17_5YR/B01001C/0400000US12.14000\n        + Asian alone https://factfinder.census.gov/bkmk/table/1.0/en/ACS/17_5YR/B01001D/0400000US12.14000\n        + Hawaiian alone https://factfinder.census.gov/bkmk/table/1.0/en/ACS/17_5YR/B01001E/0400000US12.14000\n        + Other alone https://factfinder.census.gov/bkmk/table/1.0/en/ACS/17_5YR/B01001F/0400000US12.14000\n        + 2+ races https://factfinder.census.gov/bkmk/table/1.0/en/ACS/17_5YR/B01001G/0400000US12.14000\n        + White alone, non-Hispanic https://factfinder.census.gov/bkmk/table/1.0/en/ACS/17_5YR/B01001H/0400000US12.14000\n        + Hispanic https://factfinder.census.gov/bkmk/table/1.0/en/ACS/17_5YR/B01001I/0400000US12.14000\n    \n    + Shapefiles for census tracts based on the same year as the demographic data (2017) https://www.census.gov/cgi-bin/geo/shapefiles/index.php?year=2017&layergroup=Census+Tracts\n\n\n##### Plan\n\n1. Get lat/long for center of Brandon, FL\n2. Get venues within 15 mile radius of center of Brandon, FL (suburb of Tampa)\n    2.1. Filter by category to restaurants (Mexican specifically?)\n    2.2. Take list of venueIDs and iterate thru to call for venue details of each, specifically seeking number of \"likes\"\n    2.3. Store this data to avoid repeating this call (it'll eat thru the allotment quickly)\n3. Import shapefiles and get lat/long for center of each census tract\n    3.1. Find distance of each to center of Brandon, FL; filter to census tracts within 15 mile radius\n4. Calculate distance from each venue to each census tract; may be used to weight demographic averages\n5. Import census tract demographic data from CSVs\n    5.1. Import per-race CSVs into individual dataframes; from 4th column on, only need every other column (estimates only, no need for margin of error; column headers are confusing bc they include an extra headers, causing them to be misaligned)\n    5.2. Append them into a single master dataframe with an additional column to identify which racial dataframe the rows came from\n    5.3. Pivot to reduce data to 1 row per census tract (4247 rows for FL); with age/sex/race and age/sex subpopulation columns (23x2x9 + 23x2x1 = 460 columns)\n    5.4. Add additional subpopulation columns aggregating by age/race, age, and race (23x10 + 23 + 2 = 255 more columns)\n    5.5. Filter to relevant census tracts\n6. For each venue, calculate proximity of subpopulations = weighted average value for each demographic subpopulation based on the distances of the census tracts from the venue times the proportion of the subpopulation in that tract vs all the tracts, divided by the number of census tracts (\"how far away from the venue is this subpopulation?\")\n7. Dataframe to be analyzed: row per venue; columns for category, lat, long, and proximity of subpopulations\n8. \n\n## For the second week, the final deliverables of the project will be:\n\n**A link to your Notebook on your Github repository, showing your code. (15 marks)**\n\n**A full report consisting of all of the following components (15 marks):**\n+ Introduction where you discuss the business problem and who would be interested in this project.\n+ Data where you describe the data that will be used to solve the problem and the source of the data.\n+ Methodology section which represents the main component of the report where you discuss and describe any exploratory data analysis that you did, any inferential statistical testing that you performed, and what machine learnings were used and why.\n+ Results section where you discuss the results.\n+ Discussion section where you discuss any observations you noted and any recommendations you can make based on the results.\n+ Conclusion section where you conclude the report.\n\n**Your choice of a presentation or blogpost. (10 marks)**", 
            "cell_type": "markdown", 
            "metadata": {
                "collapsed": true
            }
        }, 
        {
            "source": "", 
            "cell_type": "code", 
            "metadata": {}, 
            "outputs": [], 
            "execution_count": null
        }
    ], 
    "metadata": {
        "kernelspec": {
            "display_name": "Python 3.5", 
            "name": "python3", 
            "language": "python"
        }, 
        "language_info": {
            "mimetype": "text/x-python", 
            "nbconvert_exporter": "python", 
            "version": "3.5.5", 
            "name": "python", 
            "pygments_lexer": "ipython3", 
            "file_extension": ".py", 
            "codemirror_mode": {
                "version": 3, 
                "name": "ipython"
            }
        }
    }, 
    "nbformat": 4
}